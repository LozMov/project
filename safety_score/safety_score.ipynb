{
 "cells": [
  {
   "cell_type": "code",
   "execution_count": null,
   "id": "d918aa0e-6dcc-41bb-a43b-26ee156c6435",
   "metadata": {},
   "outputs": [],
   "source": [
    "import pandas as pd\n",
    "\n",
    "import safety_score\n",
    "import visualization"
   ]
  },
  {
   "cell_type": "code",
   "execution_count": null,
   "id": "7be5d983",
   "metadata": {},
   "outputs": [],
   "source": [
    "CRIME_WEIGHTS = pd.read_csv(\"crime_types.csv\")\n",
    "CRIME_DATA = pd.read_csv(\"crime_data_clean.csv\")\n",
    "CRIME_TYPES = CRIME_WEIGHTS[\"type\"]\n",
    "POPULATION = pd.read_csv(\"population.csv\")\n",
    "NEIGHBOURHOODS = POPULATION[\"neighbourhood\"].unique()"
   ]
  },
  {
   "cell_type": "code",
   "execution_count": null,
   "id": "02faef34",
   "metadata": {},
   "outputs": [],
   "source": [
    "POPULATION"
   ]
  },
  {
   "cell_type": "code",
   "execution_count": null,
   "id": "1755cce8-65c7-4a31-a324-950646bed4e3",
   "metadata": {},
   "outputs": [],
   "source": [
    "safety_score.get_population(POPULATION, 'Downtown', 2022)"
   ]
  },
  {
   "cell_type": "code",
   "execution_count": null,
   "id": "172f6ed6",
   "metadata": {},
   "outputs": [],
   "source": [
    "visualization.plot_neighbourhood_bar_chart(POPULATION, \"Downtown\", 2005, 2022)"
   ]
  }
 ],
 "metadata": {
  "kernelspec": {
   "display_name": "Python 3",
   "language": "python",
   "name": "python3"
  },
  "language_info": {
   "codemirror_mode": {
    "name": "ipython",
    "version": 3
   },
   "file_extension": ".py",
   "mimetype": "text/x-python",
   "name": "python",
   "nbconvert_exporter": "python",
   "pygments_lexer": "ipython3",
   "version": "3.12.0"
  }
 },
 "nbformat": 4,
 "nbformat_minor": 5
}
