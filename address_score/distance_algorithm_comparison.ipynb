{
 "cells": [
  {
   "cell_type": "markdown",
   "id": "4408b928",
   "metadata": {},
   "source": [
    "#### Distance Algorithm Comparison"
   ]
  },
  {
   "cell_type": "code",
   "execution_count": 14,
   "id": "ceada56e",
   "metadata": {},
   "outputs": [],
   "source": [
    "import os\n",
    "import time\n",
    "import pandas as pd\n",
    "import osmnx as ox\n",
    "import networkx as nx\n",
    "from tqdm import tqdm\n",
    "import numpy as np\n",
    "import math\n",
    "from network_cache import cache_greater_vancouver_network "
   ]
  },
  {
   "cell_type": "markdown",
   "id": "160e5b51",
   "metadata": {},
   "source": [
    "##### Configuration"
   ]
  },
  {
   "cell_type": "code",
   "execution_count": 15,
   "id": "73b66741",
   "metadata": {},
   "outputs": [],
   "source": [
    "# Coordinates of the start location (Northeastern University - Vancouver)\n",
    "start_coords = (49.28069261104817, -123.11572527879807)\n",
    "\n",
    "# GraphML file and housing CSV\n",
    "graph_file = \"greater_vancouver.graphml\"\n",
    "csv_file = \"house_with_coordinates.csv\""
   ]
  },
  {
   "cell_type": "code",
   "execution_count": 16,
   "id": "447da2de",
   "metadata": {},
   "outputs": [
    {
     "name": "stdout",
     "output_type": "stream",
     "text": [
      "Loading graph...\n",
      "Start node ID: 11106039371\n"
     ]
    }
   ],
   "source": [
    "# Load road network graph and housing data\n",
    "\n",
    "graph_path = os.path.abspath(graph_file)\n",
    "# If the graph does not exist, generate it using OSMnx\n",
    "if not os.path.exists(graph_path):\n",
    "    print(\"Graph file not found. Generating now...\")\n",
    "    cache_greater_vancouver_network(output_path=graph_path)\n",
    "df = pd.read_csv(csv_file)\n",
    "\n",
    "if not os.path.exists(graph_path):\n",
    "    raise FileNotFoundError(\"GraphML file not found. Run network_cache.py first.\")\n",
    "\n",
    "if not {'Latitude', 'Longitude'}.issubset(df.columns):\n",
    "    raise ValueError(\"CSV must contain 'Latitude' and 'Longitude' columns.\")\n",
    "\n",
    "print(\"Loading graph...\")\n",
    "G = ox.load_graphml(graph_path)\n",
    "\n",
    "# Get the nearest network node to the start point\n",
    "start_node = ox.distance.nearest_nodes(G, X=start_coords[1], Y=start_coords[0])\n",
    "print(\"Start node ID:\", start_node)\n"
   ]
  },
  {
   "cell_type": "markdown",
   "id": "cc337721",
   "metadata": {},
   "source": [
    "##### Dijkstra Distance Calculation"
   ]
  },
  {
   "cell_type": "code",
   "execution_count": 17,
   "id": "eba20f8c",
   "metadata": {},
   "outputs": [],
   "source": [
    "def compute_dijkstra_distances():\n",
    "    distances = []\n",
    "    start_time = time.time()\n",
    "    \n",
    "    for _, row in tqdm(df.iterrows(), total=len(df), desc=\"Dijkstra\"):\n",
    "        try:\n",
    "            house_coords = (row['Latitude'], row['Longitude'])\n",
    "            house_node = ox.distance.nearest_nodes(G, X=house_coords[1], Y=house_coords[0])\n",
    "            length = nx.shortest_path_length(G, start_node, house_node, weight='length')\n",
    "        except Exception:\n",
    "            length = None\n",
    "        distances.append(length)\n",
    "    \n",
    "    elapsed = time.time() - start_time\n",
    "    return distances, elapsed"
   ]
  },
  {
   "cell_type": "markdown",
   "id": "837f6603",
   "metadata": {},
   "source": [
    "##### A* Distance Calculation"
   ]
  },
  {
   "cell_type": "code",
   "execution_count": 18,
   "id": "bb3fd8ba",
   "metadata": {},
   "outputs": [],
   "source": [
    "# Great-circle distance in meters (admissible lower bound of road distance)\n",
    "def haversine_heuristic(u, v):\n",
    "    # u, v are node IDs in G\n",
    "    lat1, lon1 = G.nodes[u]['y'], G.nodes[u]['x']\n",
    "    lat2, lon2 = G.nodes[v]['y'], G.nodes[v]['x']\n",
    "\n",
    "    R = 6371000.0  # Earth radius in meters\n",
    "    phi1, phi2 = math.radians(lat1), math.radians(lat2)\n",
    "    d_phi = math.radians(lat2 - lat1)\n",
    "    d_lambda = math.radians(lon2 - lon1)\n",
    "\n",
    "    a = math.sin(d_phi / 2.0)**2 + math.cos(phi1) * math.cos(phi2) * math.sin(d_lambda / 2.0)**2\n",
    "    c = 2.0 * math.atan2(math.sqrt(a), math.sqrt(1.0 - a))\n",
    "    return R * c  # meters\n",
    "\n",
    "def compute_astar_distances():\n",
    "    distances = []\n",
    "    start_time = time.time()\n",
    "\n",
    "    for _, row in tqdm(df.iterrows(), total=len(df), desc=\"A*\"):\n",
    "        try:\n",
    "            house_coords = (row['Latitude'], row['Longitude'])\n",
    "            house_node = ox.distance.nearest_nodes(G, X=house_coords[1], Y=house_coords[0])\n",
    "\n",
    "            length = nx.astar_path_length(\n",
    "                G,\n",
    "                start_node,\n",
    "                house_node,\n",
    "                weight='length',               # edge lengths in meters\n",
    "                heuristic=haversine_heuristic  # admissible heuristic\n",
    "            )\n",
    "        except Exception:\n",
    "            length = None\n",
    "\n",
    "        distances.append(length)\n",
    "\n",
    "    elapsed = time.time() - start_time\n",
    "    return distances, elapsed\n"
   ]
  },
  {
   "cell_type": "markdown",
   "id": "ea8c0aa4",
   "metadata": {},
   "source": [
    "##### Single-source Dijkstra: with loop "
   ]
  },
  {
   "cell_type": "code",
   "execution_count": 27,
   "id": "a75f2169",
   "metadata": {},
   "outputs": [],
   "source": [
    "def compute_single_source_dijkstra_with_loop():\n",
    "    \"\"\"\n",
    "    Single-source Dijkstra with per-house nearest node lookup\n",
    "    \"\"\"\n",
    "    distances = []\n",
    "    start_time = time.time()\n",
    "\n",
    "    # Run Dijkstra from the start node once\n",
    "    try:\n",
    "        path_lengths = nx.single_source_dijkstra_path_length(G, start_node, weight='length')\n",
    "    except Exception:\n",
    "        path_lengths = {}\n",
    "\n",
    "    # Per-row nearest_nodes lookup\n",
    "    for _, row in tqdm(df.iterrows(), total=len(df), desc=\"Dijkstra + Loop\"):\n",
    "        try:\n",
    "            house_node = ox.distance.nearest_nodes(G, X=row['Longitude'], Y=row['Latitude'])\n",
    "            dist = path_lengths.get(house_node, None)\n",
    "        except Exception:\n",
    "            dist = None\n",
    "        distances.append(dist)\n",
    "\n",
    "    elapsed = time.time() - start_time\n",
    "    return distances, elapsed\n"
   ]
  },
  {
   "cell_type": "markdown",
   "id": "d8a25434",
   "metadata": {},
   "source": [
    "##### Single-source Dijkstra: with per-house nearest node lookup"
   ]
  },
  {
   "cell_type": "code",
   "execution_count": 20,
   "id": "f7336af6",
   "metadata": {},
   "outputs": [],
   "source": [
    "def compute_fast_single_source_dijkstra_distances():\n",
    "    start_time = time.time()\n",
    "\n",
    "    # Run single-source Dijkstra from the start node\n",
    "    path_lengths = nx.single_source_dijkstra_path_length(G, start_node, weight='length')\n",
    "\n",
    "    # Vectorized lookup of house nodes\n",
    "    house_nodes = ox.distance.nearest_nodes(\n",
    "        G, X=df['Longitude'].values, Y=df['Latitude'].values, return_dist=False\n",
    "    )\n",
    "\n",
    "    # Lookup distance for each house node from precomputed dict\n",
    "    distances = [path_lengths.get(node, None) for node in house_nodes]\n",
    "\n",
    "    elapsed = time.time() - start_time\n",
    "    return distances, elapsed\n"
   ]
  },
  {
   "cell_type": "markdown",
   "id": "500a80c5",
   "metadata": {},
   "source": [
    "##### Run and Compare"
   ]
  },
  {
   "cell_type": "code",
   "execution_count": 21,
   "id": "bb6b8994",
   "metadata": {},
   "outputs": [
    {
     "name": "stdout",
     "output_type": "stream",
     "text": [
      "Running Dijkstra...\n"
     ]
    },
    {
     "name": "stderr",
     "output_type": "stream",
     "text": [
      "Dijkstra: 100%|██████████| 1302/1302 [01:31<00:00, 14.19it/s]\n"
     ]
    },
    {
     "name": "stdout",
     "output_type": "stream",
     "text": [
      "\n",
      "Running A*...\n"
     ]
    },
    {
     "name": "stderr",
     "output_type": "stream",
     "text": [
      "A*: 100%|██████████| 1302/1302 [01:21<00:00, 16.04it/s]\n"
     ]
    }
   ],
   "source": [
    "print(\"Running Dijkstra...\")\n",
    "dijkstra_distances, dijkstra_time = compute_dijkstra_distances()\n",
    "\n",
    "print(\"\\nRunning A*...\")\n",
    "astar_distances, astar_time = compute_astar_distances()\n",
    "\n"
   ]
  },
  {
   "cell_type": "code",
   "execution_count": 22,
   "id": "65f3c87e",
   "metadata": {},
   "outputs": [
    {
     "name": "stdout",
     "output_type": "stream",
     "text": [
      "\n",
      "Running Single-Source Dijkstra (with loop)...\n"
     ]
    },
    {
     "name": "stderr",
     "output_type": "stream",
     "text": [
      "Dijkstra + Loop: 100%|██████████| 1302/1302 [01:15<00:00, 17.21it/s]\n"
     ]
    }
   ],
   "source": [
    "print(\"\\nRunning Single-Source Dijkstra (with loop)...\")\n",
    "single_source_loop_distances, single_source_loop_time = compute_single_source_dijkstra_with_loop()"
   ]
  },
  {
   "cell_type": "code",
   "execution_count": 23,
   "id": "3106684d",
   "metadata": {},
   "outputs": [
    {
     "name": "stdout",
     "output_type": "stream",
     "text": [
      "\n",
      "Running Fast Dijkstra (with per-house nearest node lookup)...\n"
     ]
    }
   ],
   "source": [
    "print(\"\\nRunning Fast Dijkstra (with per-house nearest node lookup)...\")\n",
    "fast_dijkstra_distances, fast_dijkstra_time = compute_fast_single_source_dijkstra_distances()"
   ]
  },
  {
   "cell_type": "markdown",
   "id": "98731b5e",
   "metadata": {},
   "source": [
    "##### Results Summary"
   ]
  },
  {
   "cell_type": "code",
   "execution_count": 24,
   "id": "d5d28a64",
   "metadata": {},
   "outputs": [
    {
     "name": "stdout",
     "output_type": "stream",
     "text": [
      "\n",
      "Elapsed Time:\n",
      "Dijkstra                : 91.75 seconds\n",
      "A*                      : 81.18 seconds\n",
      "Single-Source + Loop    : 75.78 seconds\n",
      "Fast Dijkstra (Vector)  : 0.18 seconds\n"
     ]
    }
   ],
   "source": [
    "print(\"\\nElapsed Time:\")\n",
    "print(f\"Dijkstra                : {dijkstra_time:.2f} seconds\")\n",
    "print(f\"A*                      : {astar_time:.2f} seconds\")\n",
    "print(f\"Single-Source + Loop    : {single_source_loop_time:.2f} seconds\")\n",
    "print(f\"Fast Dijkstra (Vector)  : {fast_dijkstra_time:.2f} seconds\")\n"
   ]
  },
  {
   "cell_type": "markdown",
   "id": "cefec318",
   "metadata": {},
   "source": [
    "##### Compare the results"
   ]
  },
  {
   "cell_type": "code",
   "execution_count": 25,
   "id": "8563bee1",
   "metadata": {},
   "outputs": [
    {
     "name": "stdout",
     "output_type": "stream",
     "text": [
      "\n",
      "Distance Value Comparison (vs Original Dijkstra):\n",
      "A*                      : 0 mismatches\n",
      "Single-Source + Loop    : 0 mismatches\n",
      "Fast Dijkstra (Vector)  : 0 mismatches\n",
      "All algorithms match Original Dijkstra within tolerance.\n"
     ]
    }
   ],
   "source": [
    "# Convert all to arrays with float64 (None → np.nan)\n",
    "dijkstra_arr = np.array(dijkstra_distances, dtype='float64')\n",
    "astar_arr = np.array(astar_distances, dtype='float64')\n",
    "loop_arr = np.array(single_source_loop_distances, dtype='float64')\n",
    "fast_arr = np.array(fast_dijkstra_distances, dtype='float64')\n",
    "\n",
    "# Set tolerance for floating-point comparison\n",
    "rtol = 1e-5\n",
    "atol = 1e-8\n",
    "\n",
    "# Helper to count mismatches\n",
    "def count_mismatch(arr1, arr2):\n",
    "    return np.sum(~np.isclose(arr1, arr2, rtol=rtol, atol=atol) & ~np.isnan(arr1) & ~np.isnan(arr2))\n",
    "\n",
    "# Count mismatches vs Dijkstra\n",
    "mismatch_astar = count_mismatch(dijkstra_arr, astar_arr)\n",
    "mismatch_loop = count_mismatch(dijkstra_arr, loop_arr)\n",
    "mismatch_fast = count_mismatch(dijkstra_arr, fast_arr)\n",
    "\n",
    "print(\"\\nDistance Value Comparison (vs Original Dijkstra):\")\n",
    "print(f\"A*                      : {mismatch_astar} mismatches\")\n",
    "print(f\"Single-Source + Loop    : {mismatch_loop} mismatches\")\n",
    "print(f\"Fast Dijkstra (Vector)  : {mismatch_fast} mismatches\")\n",
    "\n",
    "if mismatch_astar == 0 and mismatch_loop == 0 and mismatch_fast == 0:\n",
    "    print(\"All algorithms match Original Dijkstra within tolerance.\")\n",
    "else:\n",
    "    print(\"Some algorithms produced different results.\")\n",
    "\n",
    "# Optional: Show example mismatches\n",
    "if mismatch_fast > 0:\n",
    "    mismatch_df = df.copy()\n",
    "    mismatch_df[\"Dijkstra\"] = dijkstra_arr\n",
    "    mismatch_df[\"Fast_Dijkstra\"] = fast_arr\n",
    "    mismatch_df = mismatch_df[\n",
    "        ~np.isclose(dijkstra_arr, fast_arr, rtol=rtol, atol=atol) &\n",
    "        ~mismatch_df[\"Dijkstra\"].isna() &\n",
    "        ~mismatch_df[\"Fast_Dijkstra\"].isna()\n",
    "    ]\n",
    "    print(\"\\nExamples of mismatches between Dijkstra and Fast Dijkstra:\")\n",
    "    display(mismatch_df.head(5)[[\"Address\", \"Dijkstra\", \"Fast_Dijkstra\"]])"
   ]
  },
  {
   "cell_type": "code",
   "execution_count": 26,
   "id": "9ecb50e4",
   "metadata": {},
   "outputs": [
    {
     "name": "stdout",
     "output_type": "stream",
     "text": [
      "Saved to 'distance_comparison_results.csv'\n"
     ]
    },
    {
     "data": {
      "text/html": [
       "<div>\n",
       "<style scoped>\n",
       "    .dataframe tbody tr th:only-of-type {\n",
       "        vertical-align: middle;\n",
       "    }\n",
       "\n",
       "    .dataframe tbody tr th {\n",
       "        vertical-align: top;\n",
       "    }\n",
       "\n",
       "    .dataframe thead th {\n",
       "        text-align: right;\n",
       "    }\n",
       "</style>\n",
       "<table border=\"1\" class=\"dataframe\">\n",
       "  <thead>\n",
       "    <tr style=\"text-align: right;\">\n",
       "      <th></th>\n",
       "      <th>Number</th>\n",
       "      <th>Address</th>\n",
       "      <th>List Date</th>\n",
       "      <th>Price</th>\n",
       "      <th>Days on market</th>\n",
       "      <th>Total floor area</th>\n",
       "      <th>Year Built</th>\n",
       "      <th>Age</th>\n",
       "      <th>Lot Size</th>\n",
       "      <th>Latitude</th>\n",
       "      <th>Longitude</th>\n",
       "      <th>Dijkstra_Distance</th>\n",
       "      <th>Astar_Distance</th>\n",
       "      <th>Loop_Dijkstra_Distance</th>\n",
       "      <th>Fast_Dijkstra_Distance</th>\n",
       "    </tr>\n",
       "  </thead>\n",
       "  <tbody>\n",
       "    <tr>\n",
       "      <th>0</th>\n",
       "      <td>1</td>\n",
       "      <td>3178 GRAVELEY STREET</td>\n",
       "      <td>5/8/2020</td>\n",
       "      <td>1500000</td>\n",
       "      <td>18</td>\n",
       "      <td>2447</td>\n",
       "      <td>1946</td>\n",
       "      <td>74</td>\n",
       "      <td>5674.00</td>\n",
       "      <td>49.270200</td>\n",
       "      <td>-123.037009</td>\n",
       "      <td>6472.196776</td>\n",
       "      <td>6472.196776</td>\n",
       "      <td>6472.196776</td>\n",
       "      <td>6472.196776</td>\n",
       "    </tr>\n",
       "    <tr>\n",
       "      <th>1</th>\n",
       "      <td>2</td>\n",
       "      <td>1438 E 28TH AVENUE</td>\n",
       "      <td>1/22/2020</td>\n",
       "      <td>1300000</td>\n",
       "      <td>7</td>\n",
       "      <td>2146</td>\n",
       "      <td>1982</td>\n",
       "      <td>38</td>\n",
       "      <td>3631.98</td>\n",
       "      <td>49.245161</td>\n",
       "      <td>-123.074991</td>\n",
       "      <td>5827.364178</td>\n",
       "      <td>5827.364178</td>\n",
       "      <td>5827.364178</td>\n",
       "      <td>5827.364178</td>\n",
       "    </tr>\n",
       "    <tr>\n",
       "      <th>2</th>\n",
       "      <td>3</td>\n",
       "      <td>2831 W 49TH AVENUE</td>\n",
       "      <td>6/18/2019</td>\n",
       "      <td>2650000</td>\n",
       "      <td>1</td>\n",
       "      <td>3108</td>\n",
       "      <td>1929</td>\n",
       "      <td>90</td>\n",
       "      <td>9111.00</td>\n",
       "      <td>49.227603</td>\n",
       "      <td>-123.168387</td>\n",
       "      <td>8778.309479</td>\n",
       "      <td>8778.309479</td>\n",
       "      <td>8778.309479</td>\n",
       "      <td>8778.309479</td>\n",
       "    </tr>\n",
       "    <tr>\n",
       "      <th>3</th>\n",
       "      <td>4</td>\n",
       "      <td>2645 TRIUMPH STREET</td>\n",
       "      <td>6/18/2019</td>\n",
       "      <td>1385000</td>\n",
       "      <td>28</td>\n",
       "      <td>2602</td>\n",
       "      <td>1922</td>\n",
       "      <td>97</td>\n",
       "      <td>4022.70</td>\n",
       "      <td>49.284068</td>\n",
       "      <td>-123.050868</td>\n",
       "      <td>4942.984031</td>\n",
       "      <td>4942.984031</td>\n",
       "      <td>4942.984031</td>\n",
       "      <td>4942.984031</td>\n",
       "    </tr>\n",
       "    <tr>\n",
       "      <th>4</th>\n",
       "      <td>5</td>\n",
       "      <td>741-743 E 10TH AVENUE</td>\n",
       "      <td>11/28/2019</td>\n",
       "      <td>1590000</td>\n",
       "      <td>17</td>\n",
       "      <td>1843</td>\n",
       "      <td>1970</td>\n",
       "      <td>49</td>\n",
       "      <td>4026.00</td>\n",
       "      <td>49.261739</td>\n",
       "      <td>-123.088100</td>\n",
       "      <td>3754.071589</td>\n",
       "      <td>3754.071589</td>\n",
       "      <td>3754.071589</td>\n",
       "      <td>3754.071589</td>\n",
       "    </tr>\n",
       "  </tbody>\n",
       "</table>\n",
       "</div>"
      ],
      "text/plain": [
       "   Number                Address   List Date    Price  Days on market  \\\n",
       "0       1   3178 GRAVELEY STREET    5/8/2020  1500000              18   \n",
       "1       2     1438 E 28TH AVENUE   1/22/2020  1300000               7   \n",
       "2       3     2831 W 49TH AVENUE   6/18/2019  2650000               1   \n",
       "3       4    2645 TRIUMPH STREET   6/18/2019  1385000              28   \n",
       "4       5  741-743 E 10TH AVENUE  11/28/2019  1590000              17   \n",
       "\n",
       "   Total floor area  Year Built  Age  Lot Size   Latitude   Longitude  \\\n",
       "0              2447        1946   74   5674.00  49.270200 -123.037009   \n",
       "1              2146        1982   38   3631.98  49.245161 -123.074991   \n",
       "2              3108        1929   90   9111.00  49.227603 -123.168387   \n",
       "3              2602        1922   97   4022.70  49.284068 -123.050868   \n",
       "4              1843        1970   49   4026.00  49.261739 -123.088100   \n",
       "\n",
       "   Dijkstra_Distance  Astar_Distance  Loop_Dijkstra_Distance  \\\n",
       "0        6472.196776     6472.196776             6472.196776   \n",
       "1        5827.364178     5827.364178             5827.364178   \n",
       "2        8778.309479     8778.309479             8778.309479   \n",
       "3        4942.984031     4942.984031             4942.984031   \n",
       "4        3754.071589     3754.071589             3754.071589   \n",
       "\n",
       "   Fast_Dijkstra_Distance  \n",
       "0             6472.196776  \n",
       "1             5827.364178  \n",
       "2             8778.309479  \n",
       "3             4942.984031  \n",
       "4             3754.071589  "
      ]
     },
     "execution_count": 26,
     "metadata": {},
     "output_type": "execute_result"
    }
   ],
   "source": [
    "# Create a copy of the original dataframe\n",
    "result_df = df.copy()\n",
    "\n",
    "# Add all four distance columns\n",
    "result_df[\"Dijkstra_Distance\"] = dijkstra_distances\n",
    "result_df[\"Astar_Distance\"] = astar_distances\n",
    "result_df[\"Loop_Dijkstra_Distance\"] = single_source_loop_distances\n",
    "result_df[\"Fast_Dijkstra_Distance\"] = fast_dijkstra_distances\n",
    "\n",
    "# Save to CSV\n",
    "result_df.to_csv(\"distance_comparison_results.csv\", index=False)\n",
    "print(\"Saved to 'distance_comparison_results.csv'\")\n",
    "\n",
    "# Show preview\n",
    "result_df.head()\n"
   ]
  }
 ],
 "metadata": {
  "kernelspec": {
   "display_name": "3.13.3",
   "language": "python",
   "name": "python3"
  },
  "language_info": {
   "codemirror_mode": {
    "name": "ipython",
    "version": 3
   },
   "file_extension": ".py",
   "mimetype": "text/x-python",
   "name": "python",
   "nbconvert_exporter": "python",
   "pygments_lexer": "ipython3",
   "version": "3.13.3"
  }
 },
 "nbformat": 4,
 "nbformat_minor": 5
}
